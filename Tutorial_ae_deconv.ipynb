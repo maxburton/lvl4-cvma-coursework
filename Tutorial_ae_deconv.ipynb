{
  "nbformat": 4,
  "nbformat_minor": 0,
  "metadata": {
    "kernelspec": {
      "name": "python3",
      "display_name": "Python 3"
    },
    "language_info": {
      "codemirror_mode": {
        "name": "ipython",
        "version": 3
      },
      "file_extension": ".py",
      "mimetype": "text/x-python",
      "name": "python",
      "nbconvert_exporter": "python",
      "pygments_lexer": "ipython3",
      "version": "3.7.1"
    },
    "toc": {
      "nav_menu": {},
      "number_sections": true,
      "sideBar": true,
      "skip_h1_title": false,
      "title_cell": "Table of Contents",
      "title_sidebar": "Contents",
      "toc_cell": false,
      "toc_position": {},
      "toc_section_display": true,
      "toc_window_display": false
    },
    "colab": {
      "name": "Tutorial_ae-deconv.ipynb",
      "provenance": [],
      "collapsed_sections": []
    },
    "accelerator": "GPU"
  },
  "cells": [
    {
      "cell_type": "markdown",
      "metadata": {
        "id": "Z-8DETKLnPKr",
        "colab_type": "text"
      },
      "source": [
        "Deep Learning Models -- A collection of various deep learning architectures, models, and tips for TensorFlow and PyTorch in Jupyter Notebooks.\n",
        "- Author: Sebastian Raschka\n",
        "- GitHub Repository: https://github.com/rasbt/deeplearning-models"
      ]
    },
    {
      "cell_type": "code",
      "metadata": {
        "id": "Sy_lehq4nPKt",
        "colab_type": "code",
        "outputId": "8d2cefdd-48da-4ec3-bbcb-aea4fd83bb22",
        "colab": {}
      },
      "source": [
        "%load_ext watermark\n",
        "%watermark -a 'Sebastian Raschka' -v -p torch"
      ],
      "execution_count": 0,
      "outputs": [
        {
          "output_type": "stream",
          "text": [
            "Sebastian Raschka \n",
            "\n",
            "CPython 3.7.1\n",
            "IPython 7.2.0\n",
            "\n",
            "torch 1.0.0\n"
          ],
          "name": "stdout"
        }
      ]
    },
    {
      "cell_type": "markdown",
      "metadata": {
        "id": "AIxQDo3OnPKw",
        "colab_type": "text"
      },
      "source": [
        "- Runs on CPU or GPU (if available)"
      ]
    },
    {
      "cell_type": "markdown",
      "metadata": {
        "id": "HLbNwPUKnPKw",
        "colab_type": "text"
      },
      "source": [
        "# Model Zoo -- Convolutional Autoencoder with Deconvolutions"
      ]
    },
    {
      "cell_type": "markdown",
      "metadata": {
        "id": "1LYzgyr6nPKx",
        "colab_type": "text"
      },
      "source": [
        "A convolutional autoencoder using deconvolutional layers that compresses 768-pixel FashionMNIST images down to a 7x7x8 (392 pixel) representation."
      ]
    },
    {
      "cell_type": "markdown",
      "metadata": {
        "id": "9GIbT9n7nPKx",
        "colab_type": "text"
      },
      "source": [
        "## Imports"
      ]
    },
    {
      "cell_type": "code",
      "metadata": {
        "id": "Rz-u0BkZnPKy",
        "colab_type": "code",
        "colab": {}
      },
      "source": [
        "import time\n",
        "import numpy as np\n",
        "import torch\n",
        "import torch.nn.functional as F\n",
        "from torch.utils.data import DataLoader\n",
        "from torchvision import datasets\n",
        "from torchvision import transforms\n",
        "\n",
        "\n",
        "if torch.cuda.is_available():\n",
        "    torch.backends.cudnn.deterministic = True"
      ],
      "execution_count": 0,
      "outputs": []
    },
    {
      "cell_type": "code",
      "metadata": {
        "id": "P_c36B_DnPK0",
        "colab_type": "code",
        "outputId": "76961e46-fecd-4ddb-9a8d-32008434a253",
        "colab": {
          "base_uri": "https://localhost:8080/",
          "height": 306
        }
      },
      "source": [
        "##########################\n",
        "### SETTINGS\n",
        "##########################\n",
        "\n",
        "# Device\n",
        "device = torch.device(\"cuda:0\" if torch.cuda.is_available() else \"cpu\")\n",
        "print('Device:', device)\n",
        "\n",
        "# Hyperparameters\n",
        "random_seed = 456\n",
        "learning_rate = 0.005\n",
        "num_epochs = 10\n",
        "batch_size = 128\n",
        "\n",
        "\n",
        "##########################\n",
        "### MNIST DATASET\n",
        "##########################\n",
        "\n",
        "# Note transforms.ToTensor() scales input images\n",
        "# to 0-1 range\n",
        "train_dataset = datasets.FashionMNIST(root='data', \n",
        "                               train=True, \n",
        "                               transform=transforms.ToTensor(),\n",
        "                               download=True)\n",
        "\n",
        "test_dataset = datasets.FashionMNIST(root='data', \n",
        "                              train=False, \n",
        "                              transform=transforms.ToTensor())\n",
        "\n",
        "\n",
        "train_loader = DataLoader(dataset=train_dataset, \n",
        "                          batch_size=batch_size, \n",
        "                          shuffle=True)\n",
        "\n",
        "test_loader = DataLoader(dataset=test_dataset, \n",
        "                         batch_size=batch_size, \n",
        "                         shuffle=False)\n",
        "\n",
        "# Checking the dataset\n",
        "for images, labels in train_loader:  \n",
        "    print('Image batch dimensions:', images.shape)\n",
        "    print('Image label dimensions:', labels.shape)\n",
        "    break"
      ],
      "execution_count": 2,
      "outputs": [
        {
          "output_type": "stream",
          "text": [
            "\r0it [00:00, ?it/s]"
          ],
          "name": "stderr"
        },
        {
          "output_type": "stream",
          "text": [
            "Device: cuda:0\n",
            "Downloading http://fashion-mnist.s3-website.eu-central-1.amazonaws.com/train-images-idx3-ubyte.gz to data/FashionMNIST/raw/train-images-idx3-ubyte.gz\n"
          ],
          "name": "stdout"
        },
        {
          "output_type": "stream",
          "text": [
            "26427392it [00:02, 10757081.34it/s]                             \n"
          ],
          "name": "stderr"
        },
        {
          "output_type": "stream",
          "text": [
            "Extracting data/FashionMNIST/raw/train-images-idx3-ubyte.gz to data/FashionMNIST/raw\n"
          ],
          "name": "stdout"
        },
        {
          "output_type": "stream",
          "text": [
            "\r0it [00:00, ?it/s]"
          ],
          "name": "stderr"
        },
        {
          "output_type": "stream",
          "text": [
            "Downloading http://fashion-mnist.s3-website.eu-central-1.amazonaws.com/train-labels-idx1-ubyte.gz to data/FashionMNIST/raw/train-labels-idx1-ubyte.gz\n"
          ],
          "name": "stdout"
        },
        {
          "output_type": "stream",
          "text": [
            "32768it [00:00, 73394.17it/s]                            \n",
            "0it [00:00, ?it/s]"
          ],
          "name": "stderr"
        },
        {
          "output_type": "stream",
          "text": [
            "Extracting data/FashionMNIST/raw/train-labels-idx1-ubyte.gz to data/FashionMNIST/raw\n",
            "Downloading http://fashion-mnist.s3-website.eu-central-1.amazonaws.com/t10k-images-idx3-ubyte.gz to data/FashionMNIST/raw/t10k-images-idx3-ubyte.gz\n"
          ],
          "name": "stdout"
        },
        {
          "output_type": "stream",
          "text": [
            "4423680it [00:01, 3043459.94it/s]                            \n",
            "0it [00:00, ?it/s]"
          ],
          "name": "stderr"
        },
        {
          "output_type": "stream",
          "text": [
            "Extracting data/FashionMNIST/raw/t10k-images-idx3-ubyte.gz to data/FashionMNIST/raw\n",
            "Downloading http://fashion-mnist.s3-website.eu-central-1.amazonaws.com/t10k-labels-idx1-ubyte.gz to data/FashionMNIST/raw/t10k-labels-idx1-ubyte.gz\n"
          ],
          "name": "stdout"
        },
        {
          "output_type": "stream",
          "text": [
            "8192it [00:00, 25834.20it/s]            "
          ],
          "name": "stderr"
        },
        {
          "output_type": "stream",
          "text": [
            "Extracting data/FashionMNIST/raw/t10k-labels-idx1-ubyte.gz to data/FashionMNIST/raw\n",
            "Processing...\n",
            "Done!\n",
            "Image batch dimensions: torch.Size([128, 1, 28, 28])\n",
            "Image label dimensions: torch.Size([128])\n"
          ],
          "name": "stdout"
        },
        {
          "output_type": "stream",
          "text": [
            "\n"
          ],
          "name": "stderr"
        }
      ]
    },
    {
      "cell_type": "markdown",
      "metadata": {
        "id": "A1Wjh-OlnPK1",
        "colab_type": "text"
      },
      "source": [
        "## Model"
      ]
    },
    {
      "cell_type": "code",
      "metadata": {
        "id": "BG-6oqnrnPK4",
        "colab_type": "code",
        "colab": {}
      },
      "source": [
        "##########################\n",
        "### MODEL\n",
        "##########################\n",
        "\n",
        "\n",
        "class ConvolutionalAutoencoder(torch.nn.Module):\n",
        "\n",
        "    def __init__(self):\n",
        "        super(ConvolutionalAutoencoder, self).__init__()\n",
        "        \n",
        "        # calculate same padding:\n",
        "        # (w - k + 2*p)/s + 1 = o\n",
        "        # => p = (s(o-1) - w + k)/2\n",
        "        \n",
        "        ### ENCODER\n",
        "        \n",
        "        # 28x28x1 => 28x28x4\n",
        "        self.conv_1 = torch.nn.Conv2d(in_channels=1,\n",
        "                                      out_channels=4,\n",
        "                                      kernel_size=(3, 3),\n",
        "                                      stride=(1, 1),\n",
        "                                      # (1(28-1) - 28 + 3) / 2 = 1\n",
        "                                      padding=1) \n",
        "        # 28x28x4 => 14x14x4                              \n",
        "        self.pool_1 = torch.nn.MaxPool2d(kernel_size=(2, 2),\n",
        "                                         stride=(2, 2),\n",
        "                                         # (2(14-1) - 28 + 2) / 2 = 0\n",
        "                                         padding=0)                                       \n",
        "        # 14x14x4 => 14x14x8\n",
        "        self.conv_2 = torch.nn.Conv2d(in_channels=4,\n",
        "                                      out_channels=8,\n",
        "                                      kernel_size=(3, 3),\n",
        "                                      stride=(1, 1),\n",
        "                                      # (1(14-1) - 14 + 3) / 2 = 1\n",
        "                                      padding=1)                 \n",
        "        # 14x14x8 => 7x7x8                             \n",
        "        self.pool_2 = torch.nn.MaxPool2d(kernel_size=(2, 2),\n",
        "                                         stride=(2, 2),\n",
        "                                         # (2(7-1) - 14 + 2) / 2 = 0\n",
        "                                         padding=0)\n",
        "        \n",
        "        ### DECODER\n",
        "                                         \n",
        "        # 7x7x8 => 15x15x4                          \n",
        "        self.deconv_1 = torch.nn.ConvTranspose2d(in_channels=8,\n",
        "                                                 out_channels=4,\n",
        "                                                 kernel_size=(3, 3),\n",
        "                                                 stride=(2, 2),\n",
        "                                                 padding=0)\n",
        "        \n",
        "        # 15x15x4  => 31x31x1                           \n",
        "        self.deconv_2 = torch.nn.ConvTranspose2d(in_channels=4,\n",
        "                                                 out_channels=1,\n",
        "                                                 kernel_size=(3, 3),\n",
        "                                                 stride=(2, 2),\n",
        "                                                 padding=0)\n",
        "        \n",
        "    def forward(self, x):\n",
        "        \n",
        "        ### ENCODER\n",
        "        x = self.conv_1(x)\n",
        "        x = F.leaky_relu(x)\n",
        "        x = self.pool_1(x)\n",
        "        x = self.conv_2(x)\n",
        "        x = F.leaky_relu(x)\n",
        "        x = self.pool_2(x)\n",
        "        \n",
        "        ### DECODER\n",
        "        x = self.deconv_1(x)\n",
        "        x = F.leaky_relu(x)\n",
        "        x = self.deconv_2(x)\n",
        "        x = F.leaky_relu(x)\n",
        "        logits = x[:, :, 2:30, 2:30]\n",
        "        probas = torch.sigmoid(logits)\n",
        "        return logits, probas\n",
        "\n",
        "    \n",
        "torch.manual_seed(random_seed)\n",
        "model = ConvolutionalAutoencoder()\n",
        "model = model.to(device)\n",
        "\n",
        "optimizer = torch.optim.Adam(model.parameters(), lr=learning_rate)  "
      ],
      "execution_count": 0,
      "outputs": []
    },
    {
      "cell_type": "markdown",
      "metadata": {
        "id": "ILYscw24nPK5",
        "colab_type": "text"
      },
      "source": [
        "## Training"
      ]
    },
    {
      "cell_type": "code",
      "metadata": {
        "id": "xqe2DgdNnPK6",
        "colab_type": "code",
        "outputId": "1cb32b91-ede2-49ce-fc73-962ee41a4a8b",
        "colab": {
          "base_uri": "https://localhost:8080/",
          "height": 1000
        }
      },
      "source": [
        "start_time = time.time()\n",
        "for epoch in range(num_epochs):\n",
        "    for batch_idx, (features, targets) in enumerate(train_loader):\n",
        "        \n",
        "        # don't need labels, only the images (features)\n",
        "        features = features.to(device)\n",
        "        targets = targets.to(device)\n",
        "\n",
        "        ### FORWARD AND BACK PROP\n",
        "        logits, decoded = model(features)\n",
        " #       cost = F.binary_cross_entropy_with_logits(logits, features)\n",
        "        cost = F.mse_loss(decoded, features)\n",
        "        optimizer.zero_grad()\n",
        "        \n",
        "        cost.backward()\n",
        "        \n",
        "        ### UPDATE MODEL PARAMETERS\n",
        "        optimizer.step()\n",
        "        \n",
        "        ### LOGGING\n",
        "        if not batch_idx % 50:\n",
        "            print ('Epoch: %03d/%03d | Batch %03d/%03d | Cost: %.4f' \n",
        "                   %(epoch+1, num_epochs, batch_idx, \n",
        "                     len(train_dataset)//batch_size, cost))\n",
        "            \n",
        "    print('Time elapsed: %.2f min' % ((time.time() - start_time)/60))\n",
        "    \n",
        "print('Total Training Time: %.2f min' % ((time.time() - start_time)/60))"
      ],
      "execution_count": 4,
      "outputs": [
        {
          "output_type": "stream",
          "text": [
            "Epoch: 001/010 | Batch 000/468 | Cost: 0.1779\n",
            "Epoch: 001/010 | Batch 050/468 | Cost: 0.1708\n",
            "Epoch: 001/010 | Batch 100/468 | Cost: 0.1357\n",
            "Epoch: 001/010 | Batch 150/468 | Cost: 0.0410\n",
            "Epoch: 001/010 | Batch 200/468 | Cost: 0.0333\n",
            "Epoch: 001/010 | Batch 250/468 | Cost: 0.0273\n",
            "Epoch: 001/010 | Batch 300/468 | Cost: 0.0229\n",
            "Epoch: 001/010 | Batch 350/468 | Cost: 0.0221\n",
            "Epoch: 001/010 | Batch 400/468 | Cost: 0.0212\n",
            "Epoch: 001/010 | Batch 450/468 | Cost: 0.0199\n",
            "Time elapsed: 0.09 min\n",
            "Epoch: 002/010 | Batch 000/468 | Cost: 0.0200\n",
            "Epoch: 002/010 | Batch 050/468 | Cost: 0.0191\n",
            "Epoch: 002/010 | Batch 100/468 | Cost: 0.0189\n",
            "Epoch: 002/010 | Batch 150/468 | Cost: 0.0190\n",
            "Epoch: 002/010 | Batch 200/468 | Cost: 0.0179\n",
            "Epoch: 002/010 | Batch 250/468 | Cost: 0.0179\n",
            "Epoch: 002/010 | Batch 300/468 | Cost: 0.0179\n",
            "Epoch: 002/010 | Batch 350/468 | Cost: 0.0184\n",
            "Epoch: 002/010 | Batch 400/468 | Cost: 0.0182\n",
            "Epoch: 002/010 | Batch 450/468 | Cost: 0.0165\n",
            "Time elapsed: 0.17 min\n",
            "Epoch: 003/010 | Batch 000/468 | Cost: 0.0170\n",
            "Epoch: 003/010 | Batch 050/468 | Cost: 0.0169\n",
            "Epoch: 003/010 | Batch 100/468 | Cost: 0.0173\n",
            "Epoch: 003/010 | Batch 150/468 | Cost: 0.0167\n",
            "Epoch: 003/010 | Batch 200/468 | Cost: 0.0177\n",
            "Epoch: 003/010 | Batch 250/468 | Cost: 0.0154\n",
            "Epoch: 003/010 | Batch 300/468 | Cost: 0.0162\n",
            "Epoch: 003/010 | Batch 350/468 | Cost: 0.0157\n",
            "Epoch: 003/010 | Batch 400/468 | Cost: 0.0161\n",
            "Epoch: 003/010 | Batch 450/468 | Cost: 0.0158\n",
            "Time elapsed: 0.26 min\n",
            "Epoch: 004/010 | Batch 000/468 | Cost: 0.0166\n",
            "Epoch: 004/010 | Batch 050/468 | Cost: 0.0163\n",
            "Epoch: 004/010 | Batch 100/468 | Cost: 0.0160\n",
            "Epoch: 004/010 | Batch 150/468 | Cost: 0.0166\n",
            "Epoch: 004/010 | Batch 200/468 | Cost: 0.0159\n",
            "Epoch: 004/010 | Batch 250/468 | Cost: 0.0158\n",
            "Epoch: 004/010 | Batch 300/468 | Cost: 0.0162\n",
            "Epoch: 004/010 | Batch 350/468 | Cost: 0.0156\n",
            "Epoch: 004/010 | Batch 400/468 | Cost: 0.0158\n",
            "Epoch: 004/010 | Batch 450/468 | Cost: 0.0149\n",
            "Time elapsed: 0.34 min\n",
            "Epoch: 005/010 | Batch 000/468 | Cost: 0.0147\n",
            "Epoch: 005/010 | Batch 050/468 | Cost: 0.0144\n",
            "Epoch: 005/010 | Batch 100/468 | Cost: 0.0140\n",
            "Epoch: 005/010 | Batch 150/468 | Cost: 0.0152\n",
            "Epoch: 005/010 | Batch 200/468 | Cost: 0.0149\n",
            "Epoch: 005/010 | Batch 250/468 | Cost: 0.0144\n",
            "Epoch: 005/010 | Batch 300/468 | Cost: 0.0143\n",
            "Epoch: 005/010 | Batch 350/468 | Cost: 0.0149\n",
            "Epoch: 005/010 | Batch 400/468 | Cost: 0.0155\n",
            "Epoch: 005/010 | Batch 450/468 | Cost: 0.0139\n",
            "Time elapsed: 0.42 min\n",
            "Epoch: 006/010 | Batch 000/468 | Cost: 0.0149\n",
            "Epoch: 006/010 | Batch 050/468 | Cost: 0.0138\n",
            "Epoch: 006/010 | Batch 100/468 | Cost: 0.0161\n",
            "Epoch: 006/010 | Batch 150/468 | Cost: 0.0143\n",
            "Epoch: 006/010 | Batch 200/468 | Cost: 0.0147\n",
            "Epoch: 006/010 | Batch 250/468 | Cost: 0.0132\n",
            "Epoch: 006/010 | Batch 300/468 | Cost: 0.0139\n",
            "Epoch: 006/010 | Batch 350/468 | Cost: 0.0142\n",
            "Epoch: 006/010 | Batch 400/468 | Cost: 0.0144\n",
            "Epoch: 006/010 | Batch 450/468 | Cost: 0.0143\n",
            "Time elapsed: 0.51 min\n",
            "Epoch: 007/010 | Batch 000/468 | Cost: 0.0137\n",
            "Epoch: 007/010 | Batch 050/468 | Cost: 0.0134\n",
            "Epoch: 007/010 | Batch 100/468 | Cost: 0.0159\n",
            "Epoch: 007/010 | Batch 150/468 | Cost: 0.0151\n",
            "Epoch: 007/010 | Batch 200/468 | Cost: 0.0141\n",
            "Epoch: 007/010 | Batch 250/468 | Cost: 0.0142\n",
            "Epoch: 007/010 | Batch 300/468 | Cost: 0.0136\n",
            "Epoch: 007/010 | Batch 350/468 | Cost: 0.0143\n",
            "Epoch: 007/010 | Batch 400/468 | Cost: 0.0142\n",
            "Epoch: 007/010 | Batch 450/468 | Cost: 0.0137\n",
            "Time elapsed: 0.59 min\n",
            "Epoch: 008/010 | Batch 000/468 | Cost: 0.0149\n",
            "Epoch: 008/010 | Batch 050/468 | Cost: 0.0139\n",
            "Epoch: 008/010 | Batch 100/468 | Cost: 0.0149\n",
            "Epoch: 008/010 | Batch 150/468 | Cost: 0.0128\n",
            "Epoch: 008/010 | Batch 200/468 | Cost: 0.0134\n",
            "Epoch: 008/010 | Batch 250/468 | Cost: 0.0143\n",
            "Epoch: 008/010 | Batch 300/468 | Cost: 0.0139\n",
            "Epoch: 008/010 | Batch 350/468 | Cost: 0.0133\n",
            "Epoch: 008/010 | Batch 400/468 | Cost: 0.0130\n",
            "Epoch: 008/010 | Batch 450/468 | Cost: 0.0132\n",
            "Time elapsed: 0.67 min\n",
            "Epoch: 009/010 | Batch 000/468 | Cost: 0.0141\n",
            "Epoch: 009/010 | Batch 050/468 | Cost: 0.0131\n",
            "Epoch: 009/010 | Batch 100/468 | Cost: 0.0136\n",
            "Epoch: 009/010 | Batch 150/468 | Cost: 0.0139\n",
            "Epoch: 009/010 | Batch 200/468 | Cost: 0.0139\n",
            "Epoch: 009/010 | Batch 250/468 | Cost: 0.0136\n",
            "Epoch: 009/010 | Batch 300/468 | Cost: 0.0131\n",
            "Epoch: 009/010 | Batch 350/468 | Cost: 0.0137\n",
            "Epoch: 009/010 | Batch 400/468 | Cost: 0.0133\n",
            "Epoch: 009/010 | Batch 450/468 | Cost: 0.0140\n",
            "Time elapsed: 0.76 min\n",
            "Epoch: 010/010 | Batch 000/468 | Cost: 0.0126\n",
            "Epoch: 010/010 | Batch 050/468 | Cost: 0.0132\n",
            "Epoch: 010/010 | Batch 100/468 | Cost: 0.0133\n",
            "Epoch: 010/010 | Batch 150/468 | Cost: 0.0136\n",
            "Epoch: 010/010 | Batch 200/468 | Cost: 0.0142\n",
            "Epoch: 010/010 | Batch 250/468 | Cost: 0.0130\n",
            "Epoch: 010/010 | Batch 300/468 | Cost: 0.0132\n",
            "Epoch: 010/010 | Batch 350/468 | Cost: 0.0146\n",
            "Epoch: 010/010 | Batch 400/468 | Cost: 0.0131\n",
            "Epoch: 010/010 | Batch 450/468 | Cost: 0.0124\n",
            "Time elapsed: 0.84 min\n",
            "Total Training Time: 0.84 min\n"
          ],
          "name": "stdout"
        }
      ]
    },
    {
      "cell_type": "markdown",
      "metadata": {
        "id": "L7H7pXWwnPK7",
        "colab_type": "text"
      },
      "source": [
        "## Evaluation"
      ]
    },
    {
      "cell_type": "code",
      "metadata": {
        "id": "adTHdnLynPK8",
        "colab_type": "code",
        "outputId": "7ec8e8e9-a190-4bc7-db0c-99257f571b5d",
        "colab": {
          "base_uri": "https://localhost:8080/",
          "height": 187
        }
      },
      "source": [
        "%matplotlib inline\n",
        "import matplotlib.pyplot as plt\n",
        "\n",
        "##########################\n",
        "### VISUALIZATION\n",
        "##########################\n",
        "\n",
        "n_images = 15\n",
        "image_width = 28\n",
        "\n",
        "fig, axes = plt.subplots(nrows=2, ncols=n_images, \n",
        "                         sharex=True, sharey=True, figsize=(20, 2.5))\n",
        "orig_images = features[:n_images]\n",
        "decoded_images = decoded[:n_images]\n",
        "\n",
        "for i in range(n_images):\n",
        "    for ax, img in zip(axes, [orig_images, decoded_images]):\n",
        "        curr_img = img[i].detach().to(torch.device('cpu'))\n",
        "        ax[i].imshow(curr_img.view((image_width, image_width)), cmap='binary')"
      ],
      "execution_count": 7,
      "outputs": [
        {
          "output_type": "display_data",
          "data": {
            "image/png": "[encoded data removed]",
            "text/plain": [
              "<Figure size 1440x180 with 30 Axes>"
            ]
          },
          "metadata": {
            "tags": []
          }
        }
      ]
    },
    {
      "cell_type": "code",
      "metadata": {
        "id": "OmhtBS7VnPK-",
        "colab_type": "code",
        "outputId": "964b07c6-e72e-4ed0-f43a-1e7ef0958390",
        "colab": {}
      },
      "source": [
        "%watermark -iv"
      ],
      "execution_count": 0,
      "outputs": [
        {
          "output_type": "stream",
          "text": [
            "numpy       1.15.4\n",
            "torch       1.0.0\n",
            "\n"
          ],
          "name": "stdout"
        }
      ]
    }
  ]
}